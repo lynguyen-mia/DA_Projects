{
 "cells": [
  {
   "cell_type": "code",
   "execution_count": 102,
   "metadata": {},
   "outputs": [],
   "source": [
    "#data wrangling\n",
    "import pandas as pd\n",
    "#datetime\n",
    "import datetime as dt\n",
    "#seaborn\n",
    "import seaborn as sns\n",
    "import matplotlib.pyplot as plt"
   ]
  },
  {
   "cell_type": "code",
   "execution_count": 103,
   "metadata": {
    "scrolled": true
   },
   "outputs": [
    {
     "name": "stdout",
     "output_type": "stream",
     "text": [
      "   transaction_id  product_id  customer_id transaction_date  online_order  \\\n",
      "0               1           2         2950       2017-02-25           0.0   \n",
      "1               2           3         3120       2017-05-21           1.0   \n",
      "2               3          37          402       2017-10-16           0.0   \n",
      "3               4          88         3135       2017-08-31           0.0   \n",
      "4               5          78          787       2017-10-01           1.0   \n",
      "\n",
      "  order_status           brand product_line product_class product_size  \\\n",
      "0     Approved           Solex     Standard        medium       medium   \n",
      "1     Approved   Trek Bicycles     Standard        medium        large   \n",
      "2     Approved      OHM Cycles     Standard           low       medium   \n",
      "3     Approved  Norco Bicycles     Standard        medium       medium   \n",
      "4     Approved  Giant Bicycles     Standard        medium        large   \n",
      "\n",
      "   list_price  standard_cost  product_first_sold_date  \n",
      "0       71.49          53.62                  41245.0  \n",
      "1     2091.47         388.92                  41701.0  \n",
      "2     1793.43         248.82                  36361.0  \n",
      "3     1198.46         381.10                  36145.0  \n",
      "4     1765.30         709.48                  42226.0  \n"
     ]
    }
   ],
   "source": [
    "# load sheet Transactions trong file KPMG và in ra 5 dòng đầu tiên\n",
    "transactions = pd.read_excel('/Users/lyly/Downloads/KPMG_Milestone_Project/KPMG/KPMG.xlsx')\n",
    "print(transactions.head(5))"
   ]
  },
  {
   "cell_type": "code",
   "execution_count": 104,
   "metadata": {},
   "outputs": [
    {
     "name": "stdout",
     "output_type": "stream",
     "text": [
      "<class 'pandas.core.frame.DataFrame'>\n",
      "RangeIndex: 20000 entries, 0 to 19999\n",
      "Data columns (total 13 columns):\n",
      " #   Column                   Non-Null Count  Dtype         \n",
      "---  ------                   --------------  -----         \n",
      " 0   transaction_id           20000 non-null  int64         \n",
      " 1   product_id               20000 non-null  int64         \n",
      " 2   customer_id              20000 non-null  int64         \n",
      " 3   transaction_date         20000 non-null  datetime64[ns]\n",
      " 4   online_order             19640 non-null  float64       \n",
      " 5   order_status             20000 non-null  object        \n",
      " 6   brand                    19803 non-null  object        \n",
      " 7   product_line             19803 non-null  object        \n",
      " 8   product_class            19803 non-null  object        \n",
      " 9   product_size             19803 non-null  object        \n",
      " 10  list_price               20000 non-null  float64       \n",
      " 11  standard_cost            19803 non-null  float64       \n",
      " 12  product_first_sold_date  19803 non-null  float64       \n",
      "dtypes: datetime64[ns](1), float64(4), int64(3), object(5)\n",
      "memory usage: 2.0+ MB\n",
      "None\n"
     ]
    }
   ],
   "source": [
    "# in ra info bảng\n",
    "print(transactions.info())"
   ]
  },
  {
   "cell_type": "code",
   "execution_count": 105,
   "metadata": {
    "scrolled": true
   },
   "outputs": [
    {
     "name": "stdout",
     "output_type": "stream",
     "text": [
      "       transaction_id   product_id   customer_id  online_order    list_price  \\\n",
      "count    20000.000000  20000.00000  20000.000000  19640.000000  20000.000000   \n",
      "mean     10000.500000     45.36465   1738.246050      0.500458   1107.829449   \n",
      "std       5773.647028     30.75359   1011.951046      0.500013    582.825242   \n",
      "min          1.000000      0.00000      1.000000      0.000000     12.010000   \n",
      "25%       5000.750000     18.00000    857.750000      0.000000    575.270000   \n",
      "50%      10000.500000     44.00000   1736.000000      1.000000   1163.890000   \n",
      "75%      15000.250000     72.00000   2613.000000      1.000000   1635.300000   \n",
      "max      20000.000000    100.00000   5034.000000      1.000000   2091.470000   \n",
      "\n",
      "       standard_cost  product_first_sold_date  \n",
      "count   19803.000000             19803.000000  \n",
      "mean      556.046951             38199.776549  \n",
      "std       405.955660              2875.201110  \n",
      "min         7.210000             33259.000000  \n",
      "25%       215.140000             35667.000000  \n",
      "50%       507.580000             38216.000000  \n",
      "75%       795.100000             40672.000000  \n",
      "max      1759.850000             42710.000000  \n"
     ]
    }
   ],
   "source": [
    "# describe default\n",
    "print(transactions.describe())"
   ]
  },
  {
   "cell_type": "code",
   "execution_count": 106,
   "metadata": {
    "scrolled": true
   },
   "outputs": [
    {
     "name": "stdout",
     "output_type": "stream",
     "text": [
      "       order_status  brand product_line product_class product_size\n",
      "count         20000  19803        19803         19803        19803\n",
      "unique            2      6            4             3            3\n",
      "top        Approved  Solex     Standard        medium       medium\n",
      "freq          19821   4253        14176         13826        12990\n"
     ]
    }
   ],
   "source": [
    "# describe các biến object\n",
    "print(transactions.describe(include=object))"
   ]
  },
  {
   "cell_type": "code",
   "execution_count": 107,
   "metadata": {
    "scrolled": false
   },
   "outputs": [
    {
     "name": "stdout",
     "output_type": "stream",
     "text": [
      "        transaction_id   product_id   customer_id     transaction_date  \\\n",
      "count     20000.000000  20000.00000  20000.000000                20000   \n",
      "unique             NaN          NaN           NaN                  364   \n",
      "top                NaN          NaN           NaN  2017-02-14 00:00:00   \n",
      "freq               NaN          NaN           NaN                   82   \n",
      "first              NaN          NaN           NaN  2017-01-01 00:00:00   \n",
      "last               NaN          NaN           NaN  2017-12-30 00:00:00   \n",
      "mean      10000.500000     45.36465   1738.246050                  NaN   \n",
      "std        5773.647028     30.75359   1011.951046                  NaN   \n",
      "min           1.000000      0.00000      1.000000                  NaN   \n",
      "25%        5000.750000     18.00000    857.750000                  NaN   \n",
      "50%       10000.500000     44.00000   1736.000000                  NaN   \n",
      "75%       15000.250000     72.00000   2613.000000                  NaN   \n",
      "max       20000.000000    100.00000   5034.000000                  NaN   \n",
      "\n",
      "        online_order order_status  brand product_line product_class  \\\n",
      "count   19640.000000        20000  19803        19803         19803   \n",
      "unique           NaN            2      6            4             3   \n",
      "top              NaN     Approved  Solex     Standard        medium   \n",
      "freq             NaN        19821   4253        14176         13826   \n",
      "first            NaN          NaN    NaN          NaN           NaN   \n",
      "last             NaN          NaN    NaN          NaN           NaN   \n",
      "mean        0.500458          NaN    NaN          NaN           NaN   \n",
      "std         0.500013          NaN    NaN          NaN           NaN   \n",
      "min         0.000000          NaN    NaN          NaN           NaN   \n",
      "25%         0.000000          NaN    NaN          NaN           NaN   \n",
      "50%         1.000000          NaN    NaN          NaN           NaN   \n",
      "75%         1.000000          NaN    NaN          NaN           NaN   \n",
      "max         1.000000          NaN    NaN          NaN           NaN   \n",
      "\n",
      "       product_size    list_price  standard_cost  product_first_sold_date  \n",
      "count         19803  20000.000000   19803.000000             19803.000000  \n",
      "unique            3           NaN            NaN                      NaN  \n",
      "top          medium           NaN            NaN                      NaN  \n",
      "freq          12990           NaN            NaN                      NaN  \n",
      "first           NaN           NaN            NaN                      NaN  \n",
      "last            NaN           NaN            NaN                      NaN  \n",
      "mean            NaN   1107.829449     556.046951             38199.776549  \n",
      "std             NaN    582.825242     405.955660              2875.201110  \n",
      "min             NaN     12.010000       7.210000             33259.000000  \n",
      "25%             NaN    575.270000     215.140000             35667.000000  \n",
      "50%             NaN   1163.890000     507.580000             38216.000000  \n",
      "75%             NaN   1635.300000     795.100000             40672.000000  \n",
      "max             NaN   2091.470000    1759.850000             42710.000000  \n"
     ]
    },
    {
     "name": "stderr",
     "output_type": "stream",
     "text": [
      "/var/folders/3k/g5jqmfjj5_v8sf98jsp5hpsr0000gn/T/ipykernel_44212/2773332739.py:2: FutureWarning: Treating datetime data as categorical rather than numeric in `.describe` is deprecated and will be removed in a future version of pandas. Specify `datetime_is_numeric=True` to silence this warning and adopt the future behavior now.\n",
      "  print(transactions.describe(include='all'))\n"
     ]
    }
   ],
   "source": [
    "# describe all\n",
    "print(transactions.describe(include='all'))"
   ]
  },
  {
   "cell_type": "code",
   "execution_count": 108,
   "metadata": {
    "scrolled": true
   },
   "outputs": [
    {
     "data": {
      "text/plain": [
       "transaction_id               0\n",
       "product_id                   0\n",
       "customer_id                  0\n",
       "transaction_date             0\n",
       "online_order               360\n",
       "order_status                 0\n",
       "brand                      197\n",
       "product_line               197\n",
       "product_class              197\n",
       "product_size               197\n",
       "list_price                   0\n",
       "standard_cost              197\n",
       "product_first_sold_date    197\n",
       "dtype: int64"
      ]
     },
     "execution_count": 108,
     "metadata": {},
     "output_type": "execute_result"
    }
   ],
   "source": [
    "# count số dòng bị null ở mỗi cột\n",
    "transactions.isna().sum()"
   ]
  },
  {
   "cell_type": "markdown",
   "metadata": {},
   "source": [
    "# 1. Data Correction"
   ]
  },
  {
   "cell_type": "markdown",
   "metadata": {},
   "source": [
    "## 1.1 Drop NA"
   ]
  },
  {
   "cell_type": "code",
   "execution_count": 109,
   "metadata": {
    "scrolled": true
   },
   "outputs": [
    {
     "name": "stdout",
     "output_type": "stream",
     "text": [
      "<class 'pandas.core.frame.DataFrame'>\n",
      "Int64Index: 19445 entries, 0 to 19999\n",
      "Data columns (total 13 columns):\n",
      " #   Column                   Non-Null Count  Dtype         \n",
      "---  ------                   --------------  -----         \n",
      " 0   transaction_id           19445 non-null  int64         \n",
      " 1   product_id               19445 non-null  int64         \n",
      " 2   customer_id              19445 non-null  int64         \n",
      " 3   transaction_date         19445 non-null  datetime64[ns]\n",
      " 4   online_order             19445 non-null  float64       \n",
      " 5   order_status             19445 non-null  object        \n",
      " 6   brand                    19445 non-null  object        \n",
      " 7   product_line             19445 non-null  object        \n",
      " 8   product_class            19445 non-null  object        \n",
      " 9   product_size             19445 non-null  object        \n",
      " 10  list_price               19445 non-null  float64       \n",
      " 11  standard_cost            19445 non-null  float64       \n",
      " 12  product_first_sold_date  19445 non-null  float64       \n",
      "dtypes: datetime64[ns](1), float64(4), int64(3), object(5)\n",
      "memory usage: 2.1+ MB\n",
      "None\n"
     ]
    }
   ],
   "source": [
    "# tạo bảng df_dropna_all bằng cách loại bỏ tất cả giá trị null trong bảng và in ra info\n",
    "df_dropna_all = transactions.dropna()\n",
    "print(df_dropna_all.info())"
   ]
  },
  {
   "cell_type": "code",
   "execution_count": 110,
   "metadata": {
    "scrolled": true
   },
   "outputs": [
    {
     "name": "stdout",
     "output_type": "stream",
     "text": [
      "<class 'pandas.core.frame.DataFrame'>\n",
      "Int64Index: 19640 entries, 0 to 19999\n",
      "Data columns (total 13 columns):\n",
      " #   Column                   Non-Null Count  Dtype         \n",
      "---  ------                   --------------  -----         \n",
      " 0   transaction_id           19640 non-null  int64         \n",
      " 1   product_id               19640 non-null  int64         \n",
      " 2   customer_id              19640 non-null  int64         \n",
      " 3   transaction_date         19640 non-null  datetime64[ns]\n",
      " 4   online_order             19640 non-null  float64       \n",
      " 5   order_status             19640 non-null  object        \n",
      " 6   brand                    19445 non-null  object        \n",
      " 7   product_line             19445 non-null  object        \n",
      " 8   product_class            19445 non-null  object        \n",
      " 9   product_size             19445 non-null  object        \n",
      " 10  list_price               19640 non-null  float64       \n",
      " 11  standard_cost            19445 non-null  float64       \n",
      " 12  product_first_sold_date  19445 non-null  float64       \n",
      "dtypes: datetime64[ns](1), float64(4), int64(3), object(5)\n",
      "memory usage: 2.1+ MB\n",
      "None\n"
     ]
    }
   ],
   "source": [
    "# tạo bảng df_dropna_online_order bằng cách loại bỏ giá trị null trong cột online_order và in ra info\n",
    "df_dropna_online_order = transactions.dropna(subset='online_order')\n",
    "print(df_dropna_online_order.info())"
   ]
  },
  {
   "cell_type": "markdown",
   "metadata": {},
   "source": [
    "## 1.2 Fill NA"
   ]
  },
  {
   "cell_type": "code",
   "execution_count": 111,
   "metadata": {},
   "outputs": [
    {
     "name": "stdout",
     "output_type": "stream",
     "text": [
      "<class 'pandas.core.frame.DataFrame'>\n",
      "RangeIndex: 20000 entries, 0 to 19999\n",
      "Data columns (total 13 columns):\n",
      " #   Column                   Non-Null Count  Dtype         \n",
      "---  ------                   --------------  -----         \n",
      " 0   transaction_id           20000 non-null  int64         \n",
      " 1   product_id               20000 non-null  int64         \n",
      " 2   customer_id              20000 non-null  int64         \n",
      " 3   transaction_date         20000 non-null  datetime64[ns]\n",
      " 4   online_order             20000 non-null  float64       \n",
      " 5   order_status             20000 non-null  object        \n",
      " 6   brand                    20000 non-null  object        \n",
      " 7   product_line             20000 non-null  object        \n",
      " 8   product_class            20000 non-null  object        \n",
      " 9   product_size             20000 non-null  object        \n",
      " 10  list_price               20000 non-null  float64       \n",
      " 11  standard_cost            20000 non-null  float64       \n",
      " 12  product_first_sold_date  20000 non-null  float64       \n",
      "dtypes: datetime64[ns](1), float64(4), int64(3), object(5)\n",
      "memory usage: 2.0+ MB\n",
      "None\n"
     ]
    }
   ],
   "source": [
    "# fill tất cả NA bằng 0, lưu vào bảng df_fillna_0 và in ra info\n",
    "df_fillna_0 = transactions.fillna(0)\n",
    "print(df_fillna_0.info())"
   ]
  },
  {
   "cell_type": "code",
   "execution_count": 112,
   "metadata": {},
   "outputs": [
    {
     "name": "stdout",
     "output_type": "stream",
     "text": [
      "<class 'pandas.core.frame.DataFrame'>\n",
      "RangeIndex: 20000 entries, 0 to 19999\n",
      "Data columns (total 13 columns):\n",
      " #   Column                   Non-Null Count  Dtype         \n",
      "---  ------                   --------------  -----         \n",
      " 0   transaction_id           20000 non-null  int64         \n",
      " 1   product_id               20000 non-null  int64         \n",
      " 2   customer_id              20000 non-null  int64         \n",
      " 3   transaction_date         20000 non-null  datetime64[ns]\n",
      " 4   online_order             20000 non-null  float64       \n",
      " 5   order_status             20000 non-null  object        \n",
      " 6   brand                    20000 non-null  object        \n",
      " 7   product_line             20000 non-null  object        \n",
      " 8   product_class            20000 non-null  object        \n",
      " 9   product_size             20000 non-null  object        \n",
      " 10  list_price               20000 non-null  float64       \n",
      " 11  standard_cost            20000 non-null  float64       \n",
      " 12  product_first_sold_date  20000 non-null  float64       \n",
      "dtypes: datetime64[ns](1), float64(4), int64(3), object(5)\n",
      "memory usage: 2.0+ MB\n",
      "None\n"
     ]
    }
   ],
   "source": [
    "# fill NA bằng ffill, lưu vào bảng df_fillna_ffill và in ra info\n",
    "df_fillna_ffill = transactions.fillna(method='ffill')\n",
    "print(df_fillna_ffill.info())"
   ]
  },
  {
   "cell_type": "code",
   "execution_count": 113,
   "metadata": {
    "scrolled": true
   },
   "outputs": [
    {
     "name": "stdout",
     "output_type": "stream",
     "text": [
      "<class 'pandas.core.frame.DataFrame'>\n",
      "RangeIndex: 20000 entries, 0 to 19999\n",
      "Data columns (total 13 columns):\n",
      " #   Column                   Non-Null Count  Dtype         \n",
      "---  ------                   --------------  -----         \n",
      " 0   transaction_id           20000 non-null  int64         \n",
      " 1   product_id               20000 non-null  int64         \n",
      " 2   customer_id              20000 non-null  int64         \n",
      " 3   transaction_date         20000 non-null  datetime64[ns]\n",
      " 4   online_order             20000 non-null  float64       \n",
      " 5   order_status             20000 non-null  object        \n",
      " 6   brand                    20000 non-null  object        \n",
      " 7   product_line             20000 non-null  object        \n",
      " 8   product_class            20000 non-null  object        \n",
      " 9   product_size             20000 non-null  object        \n",
      " 10  list_price               20000 non-null  float64       \n",
      " 11  standard_cost            20000 non-null  float64       \n",
      " 12  product_first_sold_date  20000 non-null  float64       \n",
      "dtypes: datetime64[ns](1), float64(4), int64(3), object(5)\n",
      "memory usage: 2.0+ MB\n",
      "None\n"
     ]
    }
   ],
   "source": [
    "# fill NA bằng bfill, lưu vào bảng df_fillna_bfill và in ra info\n",
    "df_fillna_bfill = transactions.fillna(method='bfill')\n",
    "print(df_fillna_bfill.info())"
   ]
  },
  {
   "cell_type": "markdown",
   "metadata": {},
   "source": [
    "## 1.3. Assess Categorical Data"
   ]
  },
  {
   "cell_type": "code",
   "execution_count": 114,
   "metadata": {
    "scrolled": false
   },
   "outputs": [
    {
     "name": "stdout",
     "output_type": "stream",
     "text": [
      "   customer_id      first_name  last_name  gender  \\\n",
      "0            1         Laraine  Medendorp       F   \n",
      "1            2             Eli    Bockman    Male   \n",
      "2            3           Arlin     Dearle    Male   \n",
      "3            4          Talbot        NaN    Male   \n",
      "4            5  Sheila-kathryn     Calton  Female   \n",
      "\n",
      "   past_3_years_bike_related_purchases        DOB               job_title  \\\n",
      "0                                   93 1953-10-12     Executive Secretary   \n",
      "1                                   81 1980-12-16  Administrative Officer   \n",
      "2                                   61 1954-01-20      Recruiting Manager   \n",
      "3                                   33 1961-10-03                     NaN   \n",
      "4                                   56 1977-05-13           Senior Editor   \n",
      "\n",
      "  job_industry_category     wealth_segment deceased_indicator  \\\n",
      "0                Health      Mass Customer                  N   \n",
      "1    Financial Services      Mass Customer                  N   \n",
      "2              Property      Mass Customer                  N   \n",
      "3                    IT      Mass Customer                  N   \n",
      "4                   NaN  Affluent Customer                  N   \n",
      "\n",
      "                                             default owns_car  tenure  \n",
      "0                                                 \"'      Yes    11.0  \n",
      "1                       <script>alert('hi')</script>      Yes    16.0  \n",
      "2                                2018-02-01 00:00:00      Yes    15.0  \n",
      "3  () { _; } >_[$($())] { touch /tmp/blns.shellsh...       No     7.0  \n",
      "4                                                NIL      Yes     8.0  \n"
     ]
    },
    {
     "name": "stderr",
     "output_type": "stream",
     "text": [
      "/var/folders/3k/g5jqmfjj5_v8sf98jsp5hpsr0000gn/T/ipykernel_44212/4197331586.py:2: FutureWarning: Inferring datetime64[ns] from data containing strings is deprecated and will be removed in a future version. To retain the old behavior explicitly pass Series(data, dtype=datetime64[ns])\n",
      "  demographic = pd.read_excel('/Users/lyly/Downloads/KPMG_Milestone_Project/KPMG/KPMG.xlsx', sheet_name='CustomerDemographic')\n"
     ]
    }
   ],
   "source": [
    "# load sheet Demographic và hiển thị top head\n",
    "demographic = pd.read_excel('/Users/lyly/Downloads/KPMG_Milestone_Project/KPMG/KPMG.xlsx', sheet_name='CustomerDemographic')\n",
    "print(demographic.head())"
   ]
  },
  {
   "cell_type": "code",
   "execution_count": 115,
   "metadata": {},
   "outputs": [
    {
     "name": "stdout",
     "output_type": "stream",
     "text": [
      "<class 'pandas.core.frame.DataFrame'>\n",
      "RangeIndex: 4000 entries, 0 to 3999\n",
      "Data columns (total 13 columns):\n",
      " #   Column                               Non-Null Count  Dtype         \n",
      "---  ------                               --------------  -----         \n",
      " 0   customer_id                          4000 non-null   int64         \n",
      " 1   first_name                           4000 non-null   object        \n",
      " 2   last_name                            3875 non-null   object        \n",
      " 3   gender                               4000 non-null   object        \n",
      " 4   past_3_years_bike_related_purchases  4000 non-null   int64         \n",
      " 5   DOB                                  3913 non-null   datetime64[ns]\n",
      " 6   job_title                            3494 non-null   object        \n",
      " 7   job_industry_category                3344 non-null   object        \n",
      " 8   wealth_segment                       4000 non-null   object        \n",
      " 9   deceased_indicator                   4000 non-null   object        \n",
      " 10  default                              3698 non-null   object        \n",
      " 11  owns_car                             4000 non-null   object        \n",
      " 12  tenure                               3913 non-null   float64       \n",
      "dtypes: datetime64[ns](1), float64(1), int64(2), object(9)\n",
      "memory usage: 406.4+ KB\n",
      "None\n"
     ]
    }
   ],
   "source": [
    "# in ra info bảng\n",
    "print(demographic.info())"
   ]
  },
  {
   "cell_type": "code",
   "execution_count": 116,
   "metadata": {
    "scrolled": false
   },
   "outputs": [
    {
     "data": {
      "text/html": [
       "<div>\n",
       "<style scoped>\n",
       "    .dataframe tbody tr th:only-of-type {\n",
       "        vertical-align: middle;\n",
       "    }\n",
       "\n",
       "    .dataframe tbody tr th {\n",
       "        vertical-align: top;\n",
       "    }\n",
       "\n",
       "    .dataframe thead th {\n",
       "        text-align: right;\n",
       "    }\n",
       "</style>\n",
       "<table border=\"1\" class=\"dataframe\">\n",
       "  <thead>\n",
       "    <tr style=\"text-align: right;\">\n",
       "      <th></th>\n",
       "      <th>first_name</th>\n",
       "      <th>last_name</th>\n",
       "      <th>gender</th>\n",
       "      <th>job_title</th>\n",
       "      <th>job_industry_category</th>\n",
       "      <th>wealth_segment</th>\n",
       "      <th>deceased_indicator</th>\n",
       "      <th>default</th>\n",
       "      <th>owns_car</th>\n",
       "    </tr>\n",
       "  </thead>\n",
       "  <tbody>\n",
       "    <tr>\n",
       "      <th>count</th>\n",
       "      <td>4000</td>\n",
       "      <td>3875</td>\n",
       "      <td>4000</td>\n",
       "      <td>3494</td>\n",
       "      <td>3344</td>\n",
       "      <td>4000</td>\n",
       "      <td>4000</td>\n",
       "      <td>3698</td>\n",
       "      <td>4000</td>\n",
       "    </tr>\n",
       "    <tr>\n",
       "      <th>unique</th>\n",
       "      <td>3139</td>\n",
       "      <td>3725</td>\n",
       "      <td>6</td>\n",
       "      <td>195</td>\n",
       "      <td>9</td>\n",
       "      <td>3</td>\n",
       "      <td>2</td>\n",
       "      <td>90</td>\n",
       "      <td>2</td>\n",
       "    </tr>\n",
       "    <tr>\n",
       "      <th>top</th>\n",
       "      <td>Max</td>\n",
       "      <td>Pristnor</td>\n",
       "      <td>Female</td>\n",
       "      <td>Business Systems Development Analyst</td>\n",
       "      <td>Manufacturing</td>\n",
       "      <td>Mass Customer</td>\n",
       "      <td>N</td>\n",
       "      <td>100</td>\n",
       "      <td>Yes</td>\n",
       "    </tr>\n",
       "    <tr>\n",
       "      <th>freq</th>\n",
       "      <td>5</td>\n",
       "      <td>3</td>\n",
       "      <td>2037</td>\n",
       "      <td>45</td>\n",
       "      <td>799</td>\n",
       "      <td>2000</td>\n",
       "      <td>3998</td>\n",
       "      <td>113</td>\n",
       "      <td>2024</td>\n",
       "    </tr>\n",
       "  </tbody>\n",
       "</table>\n",
       "</div>"
      ],
      "text/plain": [
       "       first_name last_name  gender                             job_title  \\\n",
       "count        4000      3875    4000                                  3494   \n",
       "unique       3139      3725       6                                   195   \n",
       "top           Max  Pristnor  Female  Business Systems Development Analyst   \n",
       "freq            5         3    2037                                    45   \n",
       "\n",
       "       job_industry_category wealth_segment deceased_indicator  default  \\\n",
       "count                   3344           4000               4000     3698   \n",
       "unique                     9              3                  2       90   \n",
       "top            Manufacturing  Mass Customer                  N      100   \n",
       "freq                     799           2000               3998      113   \n",
       "\n",
       "       owns_car  \n",
       "count      4000  \n",
       "unique        2  \n",
       "top         Yes  \n",
       "freq       2024  "
      ]
     },
     "execution_count": 116,
     "metadata": {},
     "output_type": "execute_result"
    }
   ],
   "source": [
    "# describe các giá trị object\n",
    "demographic.describe(include=object)"
   ]
  },
  {
   "cell_type": "code",
   "execution_count": 117,
   "metadata": {},
   "outputs": [],
   "source": [
    "# Remove all NA rows, then use output for the following steps\n",
    "demographic = demographic.dropna()"
   ]
  },
  {
   "cell_type": "code",
   "execution_count": 118,
   "metadata": {},
   "outputs": [
    {
     "name": "stdout",
     "output_type": "stream",
     "text": [
      "0          F\n",
      "1       Male\n",
      "8     Female\n",
      "53     Femal\n",
      "Name: gender, dtype: object\n"
     ]
    }
   ],
   "source": [
    "# In ra các giá trị unique của cột \n",
    "print(demographic['gender'].drop_duplicates())"
   ]
  },
  {
   "cell_type": "code",
   "execution_count": 119,
   "metadata": {},
   "outputs": [],
   "source": [
    "# Quy chuẩn cột gender về 2 nhóm Male và Female, Unisex và in ra giá trị unique mới\n",
    "demographic.loc[demographic.gender == 'F', 'gender' ] = 'Female'\n",
    "demographic.loc[demographic.gender == 'Femal', 'gender' ] = 'Female'"
   ]
  },
  {
   "cell_type": "code",
   "execution_count": 120,
   "metadata": {},
   "outputs": [
    {
     "name": "stdout",
     "output_type": "stream",
     "text": [
      "20\n",
      "91\n"
     ]
    }
   ],
   "source": [
    "# Tính tuổi của mỗi khách hàng và lưu vào cột \"age\" và in ra min age, max age\n",
    "demographic['age'] = 2022 - demographic['DOB'].dt.year\n",
    "print(demographic['age'].min())\n",
    "print(demographic['age'].max())"
   ]
  },
  {
   "cell_type": "code",
   "execution_count": 121,
   "metadata": {},
   "outputs": [
    {
     "name": "stdout",
     "output_type": "stream",
     "text": [
      "0        Older\n",
      "1       Middle\n",
      "2        Older\n",
      "8       Middle\n",
      "9        Young\n",
      "         ...  \n",
      "3992    Middle\n",
      "3993     Young\n",
      "3994    Middle\n",
      "3995    Middle\n",
      "3996     Young\n",
      "Name: age_group, Length: 2630, dtype: category\n",
      "Categories (3, object): ['Young' < 'Middle' < 'Older']\n"
     ]
    }
   ],
   "source": [
    "# phân nhóm khách hàng dưới 35 tuổi là nhóm \"Young\", Từ 35 - 55 là \"Middle\", trên 55 là \"Older\"\n",
    "# lưu vào cột \"age_group\" bằng cách sử dụng hàm cut\n",
    "demographic['age_group'] = pd.cut(x=demographic['age'], \n",
    "                                            bins=[1,34,54,91], \n",
    "                                            labels=['Young','Middle','Older'])   \n",
    "print(demographic['age_group'])"
   ]
  },
  {
   "cell_type": "markdown",
   "metadata": {},
   "source": [
    "# 2. Data Completeness"
   ]
  },
  {
   "cell_type": "code",
   "execution_count": 122,
   "metadata": {
    "scrolled": true
   },
   "outputs": [],
   "source": [
    "#join bảng transactions vs transactions (đều đã dropna) và in ra những giao dịch thiếu thông tin demographic (last name hoặc first name)\n"
   ]
  },
  {
   "cell_type": "code",
   "execution_count": 123,
   "metadata": {},
   "outputs": [
    {
     "name": "stdout",
     "output_type": "stream",
     "text": [
      "4            5\n",
      "7            8\n",
      "10          11\n",
      "16          17\n",
      "24          25\n",
      "         ...  \n",
      "19988    19989\n",
      "19991    19992\n",
      "19992    19993\n",
      "19993    19994\n",
      "19998    19999\n",
      "Name: transaction_id, Length: 6463, dtype: int64\n"
     ]
    }
   ],
   "source": [
    "data = df_dropna_all.merge(demographic, on='customer_id', how='left', indicator=True)\n",
    "id_list = data.loc[data['_merge'] == 'left_only', 'customer_id']\n",
    "demographic_loss = df_dropna_all[df_dropna_all['customer_id'].isin(id_list)]['transaction_id']\n",
    "print(demographic_loss)"
   ]
  },
  {
   "cell_type": "markdown",
   "metadata": {},
   "source": [
    "# 3. Data Aggregation (after dropping null values)"
   ]
  },
  {
   "cell_type": "code",
   "execution_count": 124,
   "metadata": {
    "scrolled": true
   },
   "outputs": [
    {
     "data": {
      "text/plain": [
       "3492"
      ]
     },
     "execution_count": 124,
     "metadata": {},
     "output_type": "execute_result"
    }
   ],
   "source": [
    "# tính tổng khách hàng có phát sinh giao dịch bằng hàm nunique\n",
    "data['customer_id'].nunique()"
   ]
  },
  {
   "cell_type": "code",
   "execution_count": 125,
   "metadata": {
    "scrolled": true
   },
   "outputs": [
    {
     "name": "stdout",
     "output_type": "stream",
     "text": [
      "   year_month  customer_id\n",
      "0     2017_01         1321\n",
      "1     2017_02         1258\n",
      "2     2017_03         1277\n",
      "3     2017_04         1284\n",
      "4     2017_05         1281\n",
      "5     2017_06         1238\n",
      "6     2017_07         1327\n",
      "7     2017_08         1346\n",
      "8     2017_09         1240\n",
      "9     2017_10         1378\n",
      "10    2017_11         1281\n",
      "11    2017_12         1294\n"
     ]
    }
   ],
   "source": [
    "# Tính số khách hàng mỗi tháng\n",
    "# hint 1: tạo column year_month bằng hàm dt.strftime\n",
    "# hint 2: group by year_month và nunique\n",
    "data['year_month'] = data['transaction_date'].dt.strftime('%Y_%m')                                                   \n",
    "customer = data.groupby('year_month', as_index=False)['customer_id'].nunique()\n",
    "print(customer)"
   ]
  },
  {
   "cell_type": "code",
   "execution_count": 126,
   "metadata": {
    "scrolled": true
   },
   "outputs": [
    {
     "name": "stdout",
     "output_type": "stream",
     "text": [
      "   year_month   gross_margin\n",
      "0     2017_01  915151.359988\n",
      "1     2017_02  852514.230000\n",
      "2     2017_03  865312.550000\n",
      "3     2017_04  888856.890000\n",
      "4     2017_05  904003.210000\n",
      "5     2017_06  841815.260000\n",
      "6     2017_07  919677.790000\n",
      "7     2017_08  951376.270000\n",
      "8     2017_09  843736.130000\n",
      "9     2017_10  968986.414984\n",
      "10    2017_11  900817.570000\n",
      "11    2017_12  876568.660000\n"
     ]
    }
   ],
   "source": [
    "# Tính gross margin của mỗi tháng. gross_margin = list_price - standard_cost\n",
    "# hint 1: tạo column gross_margin\n",
    "# hint 2: group by year_month và sử dụng hàm agg\n",
    "data['gross_margin'] = data.list_price - data.standard_cost\n",
    "gross_margin = data.groupby('year_month', as_index=False).agg({'gross_margin': sum})\n",
    "print(gross_margin)"
   ]
  },
  {
   "cell_type": "code",
   "execution_count": 127,
   "metadata": {
    "scrolled": false
   },
   "outputs": [
    {
     "name": "stdout",
     "output_type": "stream",
     "text": [
      "   online_order order_status  transaction_id   list_price\n",
      "0           0.0     Approved            9631  10666230.05\n",
      "1           0.0    Cancelled              75     86837.88\n",
      "2           1.0     Approved            9642  10670179.59\n",
      "3           1.0    Cancelled              97    108924.20\n"
     ]
    }
   ],
   "source": [
    "# Tính số lượng order và doanh thu group by online_order và order_status \n",
    "# hint 1: group by online_order, order_status và sử dụng hàm agg\n",
    "online_order_revenue = data.groupby(['online_order','order_status'],as_index=False).agg({'transaction_id':'count', 'list_price':'sum'})\n",
    "print(online_order_revenue)"
   ]
  },
  {
   "cell_type": "markdown",
   "metadata": {},
   "source": [
    "# 4. Data Visualization"
   ]
  },
  {
   "cell_type": "code",
   "execution_count": 128,
   "metadata": {},
   "outputs": [
    {
     "data": {
      "image/png": "[encoded data removed]",
      "text/plain": [
       "<Figure size 440.5x360 with 1 Axes>"
      ]
     },
     "metadata": {},
     "output_type": "display_data"
    }
   ],
   "source": [
    "# Sử dụng seaborn và vẽ ra 5 chart khác nhau (column, line, box,...) với đầy đủ tên chart, tên các trục và chú thích.\n",
    "# bar chart\n",
    "sns.set_style('whitegrid')\n",
    "m = sns.catplot(x='online_order', y='transaction_id', data=online_order_revenue, kind='bar', hue='order_status')\n",
    "m.fig.suptitle('Number of orders by online order & order status', y=1.03)\n",
    "m.set(xlabel='Online order (0=False, 1=True)',\n",
    "      ylabel='Number of orders')\n",
    "plt.show()"
   ]
  },
  {
   "cell_type": "code",
   "execution_count": 129,
   "metadata": {},
   "outputs": [
    {
     "data": {
      "image/png": "[encoded data removed]",
      "text/plain": [
       "<Figure size 440.5x360 with 1 Axes>"
      ]
     },
     "metadata": {},
     "output_type": "display_data"
    }
   ],
   "source": [
    "# bar chart\n",
    "n = sns.catplot(x='online_order', y='list_price', data=online_order_revenue, kind='bar', hue='order_status')\n",
    "n.fig.suptitle('Revenue by online order & order status', y=1.03)\n",
    "n.set(xlabel='Online order (0=False, 1=True)',\n",
    "      ylabel='Revenue (in ten millions)')\n",
    "plt.show()"
   ]
  },
  {
   "cell_type": "code",
   "execution_count": 130,
   "metadata": {},
   "outputs": [
    {
     "data": {
      "image/png": "[encoded data removed]",
      "text/plain": [
       "<Figure size 360x360 with 1 Axes>"
      ]
     },
     "metadata": {},
     "output_type": "display_data"
    }
   ],
   "source": [
    "# Box chart\n",
    "n = sns.catplot(x='online_order', y='list_price', data=online_order_revenue, kind='box', whis=0.5)\n",
    "n.fig.suptitle('Revenue by online order & order status', y=1.03)\n",
    "n.set(xlabel='Online order (0=False, 1=True)',\n",
    "      ylabel='Revenue (in ten millions)')\n",
    "plt.show()"
   ]
  },
  {
   "cell_type": "code",
   "execution_count": 131,
   "metadata": {},
   "outputs": [
    {
     "data": {
      "image/png": "[encoded data removed]",
      "text/plain": [
       "<Figure size 360x360 with 1 Axes>"
      ]
     },
     "metadata": {},
     "output_type": "display_data"
    }
   ],
   "source": [
    "# point chart\n",
    "g = sns.catplot(x='year_month',y='customer_id', data=customer, kind='point')\n",
    "g.fig.suptitle('Number of customers by Year, Month', y=1.03)\n",
    "g.set(xlabel='Year, Month',\n",
    "      ylabel='Number of customers')\n",
    "plt.xticks(rotation=45)\n",
    "plt.show()"
   ]
  },
  {
   "cell_type": "code",
   "execution_count": 132,
   "metadata": {
    "scrolled": false
   },
   "outputs": [
    {
     "data": {
      "image/png": "[encoded data removed]",
      "text/plain": [
       "<Figure size 360x360 with 1 Axes>"
      ]
     },
     "metadata": {},
     "output_type": "display_data"
    }
   ],
   "source": [
    "# line chart\n",
    "g = sns.relplot(x='year_month',y='gross_margin', data=gross_margin, kind='line')\n",
    "g.fig.suptitle('Gross Profit by Year, Month', y=1.03)\n",
    "g.set(xlabel='Year, Month',\n",
    "      ylabel='Gross Margin')\n",
    "plt.xticks(rotation=45)\n",
    "plt.show()"
   ]
  },
  {
   "cell_type": "code",
   "execution_count": null,
   "metadata": {},
   "outputs": [],
   "source": []
  }
 ],
 "metadata": {
  "kernelspec": {
   "display_name": "Python 3 (ipykernel)",
   "language": "python",
   "name": "python3"
  },
  "language_info": {
   "codemirror_mode": {
    "name": "ipython",
    "version": 3
   },
   "file_extension": ".py",
   "mimetype": "text/x-python",
   "name": "python",
   "nbconvert_exporter": "python",
   "pygments_lexer": "ipython3",
   "version": "3.9.12"
  }
 },
 "nbformat": 4,
 "nbformat_minor": 2
}
