{
 "cells": [
  {
   "cell_type": "code",
   "execution_count": 81,
   "metadata": {},
   "outputs": [],
   "source": [
    "import numpy as np"
   ]
  },
  {
   "cell_type": "markdown",
   "metadata": {},
   "source": [
    "### Mô phỏng 1 trò chơi nhỏ mang tên đoán số. Cụ thể, Máy tính sẽ chọn random 1 số từ 1 đến 10 (không in ra màn hình).\n",
    "### Chúng ta sẽ đoán máy tính chọn số bao nhiêu?\n",
    "#### - Nếu số chúng ta đoán thấp hơn máy tính thì in ra \"Your guessing number is too low\"\n",
    "#### - Nếu số chúng ta đoán cao hơn máy tính thì in ra \"Your guessing number is too high\"\n",
    "#### - Nếu chúng ta đoán đúng số thì in ra \"You got the correct number after\" xx \"tries\" trong đó xx là số lần đoán. (xx <= 5)\n",
    "#### - Trường hợp 5 lần đoán sai thì sẽ dừng trò chơi và in ra \"Gameover!!! The correct number is yy\" trong đó yy là số mà máy tính chọn"
   ]
  },
  {
   "cell_type": "code",
   "execution_count": 82,
   "metadata": {},
   "outputs": [
    {
     "name": "stdout",
     "output_type": "stream",
     "text": [
      "What is your name?\n",
      "mia\n",
      "Hi mia. Welcome to the guessing game!\n"
     ]
    }
   ],
   "source": [
    "# generate random number\n",
    "num = np.random.randint(1,10)\n",
    "# guess_limit = 5\n",
    "guess = 0\n",
    "\n",
    "# input player's name\n",
    "print('What is your name?')\n",
    "user = input()\n",
    "\n",
    "# Say hi and welcome player to the guessing game\n",
    "print('Hi ' + user + '. Welcome to the guessing game!')"
   ]
  },
  {
   "cell_type": "code",
   "execution_count": 83,
   "metadata": {},
   "outputs": [
    {
     "name": "stdout",
     "output_type": "stream",
     "text": [
      "Please guess the number:\n",
      "8\n",
      "Your guessing number is too high\n",
      "Please guess the number:\n",
      "6\n",
      "Your guessing number is too high\n",
      "Please guess the number:\n",
      "5\n",
      "Your guessing number is too high\n",
      "Please guess the number:\n",
      "3\n",
      "You got the correct number after 4 tries\n"
     ]
    }
   ],
   "source": [
    "while guess <=5: #develop the while loop\n",
    "    if guess == 5: \n",
    "        print('Gameover!!! The correct number is ' + str(num))\n",
    "        break #stop when it surpasses 5 guess times\n",
    "    else:\n",
    "        print('Please guess the number:')\n",
    "        x = input()\n",
    "        guess = guess + 1\n",
    "        if int(x) == num:\n",
    "            print('You got the correct number after ' + str(guess) + ' tries')\n",
    "            break #stop when the guess is correct\n",
    "        elif int(x) > num:\n",
    "            print('Your guessing number is too high')\n",
    "        else:\n",
    "            print('Your guessing number is too low')\n"
   ]
  },
  {
   "cell_type": "code",
   "execution_count": null,
   "metadata": {},
   "outputs": [],
   "source": []
  },
  {
   "cell_type": "markdown",
   "metadata": {},
   "source": []
  }
 ],
 "metadata": {
  "kernelspec": {
   "display_name": "Python 3 (ipykernel)",
   "language": "python",
   "name": "python3"
  },
  "language_info": {
   "codemirror_mode": {
    "name": "ipython",
    "version": 3
   },
   "file_extension": ".py",
   "mimetype": "text/x-python",
   "name": "python",
   "nbconvert_exporter": "python",
   "pygments_lexer": "ipython3",
   "version": "3.9.12"
  }
 },
 "nbformat": 4,
 "nbformat_minor": 2
}
