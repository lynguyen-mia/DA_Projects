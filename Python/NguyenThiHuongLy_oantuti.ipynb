{
 "cells": [
  {
   "cell_type": "code",
   "execution_count": 49,
   "metadata": {},
   "outputs": [],
   "source": [
    "import numpy as np"
   ]
  },
  {
   "cell_type": "markdown",
   "metadata": {},
   "source": [
    "#### Trong project này chúng ta sẽ mô phỏng lại trò chơi dân gian oẳn tù tì.\n",
    "#### Cụ thể, chúng ta sẽ oẳn tù tì với máy. Máy sẽ chọn random búa, kéo, hoặc lá trong mỗi lần oẳn tù tì.\n",
    "#### Chúng ta sẽ chọn ra búa, kéo hoặc lá sau đó in ra kết quả. Trường hợp người chơi nhập sai, yêu cầu người chơi nhập lại theo đúng chính tả theo 3 sự lựa chọn búa, kéo, hoặc lá.\n",
    "#### Lưu ý, sau mỗi lượt chơi, máy sẽ random chọn lại búa kéo hoặc lá."
   ]
  },
  {
   "cell_type": "code",
   "execution_count": 50,
   "metadata": {},
   "outputs": [
    {
     "name": "stdout",
     "output_type": "stream",
     "text": [
      "Búa, kéo hay lá?\n",
      "kéo\n",
      "Kết quả: Bạn Thua ^^\n"
     ]
    }
   ],
   "source": [
    "# tạo array búa, kéo, lá\n",
    "array = np.array(['búa','kéo','lá'])\n",
    "\n",
    "# máy chọn random\n",
    "random = np.random.choice(array)\n",
    "\n",
    "# tạo vòng lặp while để chạy chương trình\n",
    "print('Búa, kéo hay lá?')\n",
    "x = input()\n",
    "\n",
    "while x != array[0] and x != array[1] and x != array[2]:\n",
    "    print('Nhập lại đúng chính tả:')\n",
    "    x = input()\n",
    "    \n",
    "if random == x:\n",
    "    print('Kết quả: Hoà')\n",
    "elif random == 'búa':\n",
    "    if x == 'lá':\n",
    "        print('Kết quả: Bạn Thắng!')\n",
    "    else:\n",
    "        print('Kết quả: Bạn Thua ^^')\n",
    "elif random == 'lá':\n",
    "    if x == 'kéo':\n",
    "        print('Kết quả: Bạn Thắng!')\n",
    "    else:\n",
    "        print('Kết quả: Bạn Thua ^^')\n",
    "elif random == 'kéo':\n",
    "    if x == 'búa':\n",
    "        print('Kết quả: Bạn Thắng!')\n",
    "    else:\n",
    "        print('Kết quả: Bạn Thua ^^')\n",
    "    "
   ]
  },
  {
   "cell_type": "code",
   "execution_count": null,
   "metadata": {},
   "outputs": [],
   "source": []
  }
 ],
 "metadata": {
  "kernelspec": {
   "display_name": "Python 3 (ipykernel)",
   "language": "python",
   "name": "python3"
  },
  "language_info": {
   "codemirror_mode": {
    "name": "ipython",
    "version": 3
   },
   "file_extension": ".py",
   "mimetype": "text/x-python",
   "name": "python",
   "nbconvert_exporter": "python",
   "pygments_lexer": "ipython3",
   "version": "3.9.12"
  }
 },
 "nbformat": 4,
 "nbformat_minor": 2
}
